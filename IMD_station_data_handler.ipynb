{
  "cells": [
    {
      "cell_type": "code",
      "source": [
        "import pandas as pd\n",
        "\n",
        "import warnings\n",
        "warnings.filterwarnings(\"ignore\")"
      ],
      "metadata": {
        "id": "IjmhgFC2bZ5Z"
      },
      "execution_count": null,
      "outputs": []
    },
    {
      "cell_type": "code",
      "source": [
        "file_path = '/content/RAINFALL_DAILY_NDCQ-2024-05-109.txt'\n",
        "with open(file_path, 'r') as file:\n",
        "    lines = file.readlines()"
      ],
      "metadata": {
        "id": "wwjyjT0Hgq6U"
      },
      "execution_count": null,
      "outputs": []
    },
    {
      "cell_type": "code",
      "source": [
        "data = {}\n",
        "current_station = None\n"
      ],
      "metadata": {
        "id": "wysCYcBGgu7H"
      },
      "execution_count": null,
      "outputs": []
    },
    {
      "cell_type": "code",
      "source": [
        "for line in lines:\n",
        "    if line.startswith('STATION'):\n",
        "\n",
        "        parts = line.split(',')\n",
        "        station_name = parts[0].split(':')[1].strip()\n",
        "        data[station_name] = []\n",
        "        current_station = station_name\n",
        "    elif current_station and line[0].isdigit():\n",
        "\n",
        "        parts = line.split()\n",
        "        year = int(parts[0])\n",
        "        month = int(parts[1])\n",
        "        daily_rainfall = parts[2:]\n",
        "        for day, rainfall in enumerate(daily_rainfall, start=1):\n",
        "            data[current_station].append({\n",
        "                'Year': year,\n",
        "                'Month': month,\n",
        "                'Day': day,\n",
        "                'Rainfall': float(rainfall)\n",
        "            })"
      ],
      "metadata": {
        "id": "LsLMQtw_g0GO"
      },
      "execution_count": null,
      "outputs": []
    },
    {
      "cell_type": "code",
      "source": [
        "dfs = []\n",
        "for station, records in data.items():\n",
        "    df = pd.DataFrame(records)\n",
        "    df['Station'] = station\n",
        "    dfs.append(df)\n",
        "\n",
        "\n",
        "final_df = pd.concat(dfs)"
      ],
      "metadata": {
        "id": "aFREiSJLg9UO"
      },
      "execution_count": null,
      "outputs": []
    },
    {
      "cell_type": "code",
      "source": [
        "from datetime import datetime\n",
        "pivot_df = final_df.pivot_table(index=['Year', 'Month', 'Day'], columns='Station', values='Rainfall').reset_index()\n",
        "def convert_date(x):\n",
        "      year, month, day = int(float(x.split()[0])), int(float(x.split()[1])), int(float(x.split()[2]))\n",
        "      return datetime.strptime(f\"{year} {month} {day}\", '%Y %m %d')\n",
        "\n",
        "\n",
        "pivot_df['date_str'] = pivot_df[['Year', 'Month', 'Day']].astype(str).agg(' '.join, axis=1)\n",
        "\n",
        "pivot_df['Date'] = pivot_df['date_str'].apply(convert_date)\n",
        "\n",
        "pivot_df.drop(columns=['Year','Month','Day','date_str'], inplace=True)\n",
        "pivot_df.set_index('Date', inplace=True)\n",
        "pivot_df.head()\n",
        "\n",
        "\n",
        "\n",
        "output_path = '/content/drive/MyDrive/IMD_DR_tests.xlsx'\n",
        "pivot_df.to_excel(output_path, index=True)"
      ],
      "metadata": {
        "id": "3fS2ZOJdhCtM"
      },
      "execution_count": null,
      "outputs": []
    },
    {
      "cell_type": "markdown",
      "source": [
        "Initiate further post processing\n"
      ],
      "metadata": {
        "id": "ck0yspzm_82R"
      }
    },
    {
      "cell_type": "code",
      "source": [],
      "metadata": {
        "id": "PqzEqYn1AFS9"
      },
      "execution_count": null,
      "outputs": []
    }
  ],
  "metadata": {
    "colab": {
      "provenance": []
    },
    "kernelspec": {
      "display_name": "Python 3",
      "name": "python3"
    },
    "language_info": {
      "name": "python"
    }
  },
  "nbformat": 4,
  "nbformat_minor": 0
}